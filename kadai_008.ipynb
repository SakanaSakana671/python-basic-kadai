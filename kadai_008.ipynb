{
  "nbformat": 4,
  "nbformat_minor": 0,
  "metadata": {
    "colab": {
      "provenance": []
    },
    "kernelspec": {
      "name": "python3",
      "display_name": "Python 3"
    },
    "language_info": {
      "name": "python"
    }
  },
  "cells": [
    {
      "cell_type": "code",
      "execution_count": 1,
      "metadata": {
        "colab": {
          "base_uri": "https://localhost:8080/"
        },
        "id": "pE5PjNG06kMl",
        "outputId": "61dc2f30-f0ac-4afa-ce80-b7df048bec19"
      },
      "outputs": [
        {
          "output_type": "stream",
          "name": "stdout",
          "text": [
            "1\n"
          ]
        }
      ],
      "source": [
        "var =1\n",
        "\n",
        "if var %3 ==0 and var %5 ==0:\n",
        "  print(\"FizzBuzz\")\n",
        "\n",
        "elif var %3 ==0:\n",
        "  print(\"Fizz\")\n",
        "\n",
        "elif var %5 ==0:\n",
        "  print(\"Buzz\")\n",
        "\n",
        "else:\n",
        "  print(var)"
      ]
    }
  ]
}