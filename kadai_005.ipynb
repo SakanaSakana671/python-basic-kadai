{
  "cells": [
    {
      "cell_type": "code",
      "source": [
        "top = 10\n",
        "under = 2\n",
        "height = 5\n",
        "\n",
        "print(f\"{(top + under)*height /2}cm²\" )"
      ],
      "metadata": {
        "id": "-KNU6YDk85OU"
      },
      "execution_count": null,
      "outputs": []
    }
  ],
  "metadata": {
    "colab": {
      "name": "Colaboratory へようこそ",
      "toc_visible": true,
      "provenance": []
    },
    "kernelspec": {
      "display_name": "Python 3",
      "name": "python3"
    }
  },
  "nbformat": 4,
  "nbformat_minor": 0
}