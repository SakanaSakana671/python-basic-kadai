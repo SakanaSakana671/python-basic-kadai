{
  "nbformat": 4,
  "nbformat_minor": 0,
  "metadata": {
    "colab": {
      "provenance": []
    },
    "kernelspec": {
      "name": "python3",
      "display_name": "Python 3"
    },
    "language_info": {
      "name": "python"
    }
  },
  "cells": [
    {
      "cell_type": "code",
      "execution_count": null,
      "metadata": {
        "id": "jMLrj7t__jJZ"
      },
      "outputs": [],
      "source": [
        "array = [\"水\", \"金\", \"地\", \"火\", \"木\", \"土\", \"天\", \"海\", \"冥\"]\n",
        "\n",
        "number = 0\n",
        "while True:\n",
        "    for i in array:\n",
        "        print(i)\n",
        "    number =  number +1\n",
        "    if number == 2:\n",
        "        break"
      ]
    }
  ]
}