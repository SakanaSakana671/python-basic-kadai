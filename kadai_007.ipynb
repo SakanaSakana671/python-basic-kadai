{
  "nbformat": 4,
  "nbformat_minor": 0,
  "metadata": {
    "colab": {
      "provenance": []
    },
    "kernelspec": {
      "name": "python3",
      "display_name": "Python 3"
    },
    "language_info": {
      "name": "python"
    }
  },
  "cells": [
    {
      "cell_type": "code",
      "execution_count": 3,
      "metadata": {
        "colab": {
          "base_uri": "https://localhost:8080/"
        },
        "id": "ONmQsmNRCPhJ",
        "outputId": "d48f9313-ce19-4415-e7c6-11dbfee64f14"
      },
      "outputs": [
        {
          "output_type": "stream",
          "name": "stdout",
          "text": [
            "{'mon': '晴れ', 'tue': '雨', 'wed': '晴れ', 'thu': '晴れ', 'fri': '曇り', 'sat': '曇のち雨', 'sun': '雷雨'}\n"
          ]
        }
      ],
      "source": [
        "array = {0:\"月曜日は晴れです\", 1:\"火曜日は雨です\", 2:\"水曜日は晴れです\", 3:\"木曜日は晴れです\", 4:\"金曜日は曇りです\", 5:\"土曜日は曇りのち雨です\", 6:\"日曜日は雷雨です\"}\n",
        "\n",
        "dictionary ={\"mon\": \"晴れ\", \"tue\":\"雨\", \"wed\":\"晴れ\", \"thu\":\"晴れ\", \"fri\":\"曇り\", \"sat\":\"曇のち雨\", \"sun\":\"雷雨\"}\n"
      ]
    }
  ]
}